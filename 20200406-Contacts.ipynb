{
 "cells": [
  {
   "cell_type": "code",
   "execution_count": 3,
   "metadata": {},
   "outputs": [],
   "source": [
    "import numpy as np\n",
    "import pandas as pd\n",
    "import geopandas as gpd \n",
    "\n",
    "import plotly.express as px"
   ]
  },
  {
   "cell_type": "code",
   "execution_count": 4,
   "metadata": {},
   "outputs": [
    {
     "name": "stdout",
     "output_type": "stream",
     "text": [
      "22725\n",
      "22316\n"
     ]
    },
    {
     "name": "stderr",
     "output_type": "stream",
     "text": [
      "/home/kelu/.local/lib/python3.6/site-packages/IPython/core/interactiveshell.py:3051: DtypeWarning:\n",
      "\n",
      "Columns (2,3,32,34,35) have mixed types.Specify dtype option on import or set low_memory=False.\n",
      "\n"
     ]
    }
   ],
   "source": [
    "df = pd.read_csv('2020_maires_reelus.csv.gz', compression='gzip').dropna(how='all',axis='columns')\n",
    "df = df.rename(columns={\"codeinsee\": \"codeInsee\"})\n",
    "print(len(df))\n",
    "df.codeInsee = pd.to_numeric(df.codeInsee, errors='coerce', downcast='integer')  \n",
    "df = df.dropna(subset=[\"codeInsee\"])\n",
    "print(len(df))"
   ]
  },
  {
   "cell_type": "code",
   "execution_count": 5,
   "metadata": {},
   "outputs": [
    {
     "data": {
      "text/plain": [
       "Index(['Unnamed: 0', 'Code du département', 'codmindpt', 'coddpt3car',\n",
       "       'libdpt', 'Code de la commune', 'libsubcom', 'typcom', 'popsubcom',\n",
       "       'modescrutin', 'numliste', 'codnualiste', 'nomliste', 'liblisext',\n",
       "       'numordcand', 'teteliste', 'candidatepci', 'elucom', 'eluepci',\n",
       "       'elusecteur', 'candidatelucom', 'tour', 'NomElu2014', 'PrenomElu2014',\n",
       "       'sexe', 'naissance', 'csp', 'libcsp', 'nat', 'codeInsee',\n",
       "       'age_lors_elec', 'codnualisteinitiale', 'liblisextinitiale',\n",
       "       'NomElu2020', 'PrenomElu2020', '% Voix/Ins', '% Voix/Exp', 'type',\n",
       "       'matchPrenoms'],\n",
       "      dtype='object')"
      ]
     },
     "execution_count": 5,
     "metadata": {},
     "output_type": "execute_result"
    }
   ],
   "source": [
    "df.keys()"
   ]
  },
  {
   "cell_type": "code",
   "execution_count": 6,
   "metadata": {},
   "outputs": [
    {
     "name": "stdout",
     "output_type": "stream",
     "text": [
      "36117\n"
     ]
    }
   ],
   "source": [
    "dfMairies = pd.read_csv('data/mairies/mairies.csv').dropna(how='all',axis='columns').dropna(subset=[\"codeInsee\"])\n",
    "dfMairies.codeInsee = pd.to_numeric(dfMairies.codeInsee, errors='coerce', downcast='integer')  \n",
    "print(len(dfMairies))"
   ]
  },
  {
   "cell_type": "code",
   "execution_count": 11,
   "metadata": {},
   "outputs": [],
   "source": [
    "ColInterest = [\"libdpt\",\"libsubcom\",\"popsubcom\",\"tour\",\"NomElu2014\",\"PrenomElu2014\",\"sexe\",\"naissance\",\"libcsp\",\"codeInsee\",\"PrenomElu2020\",\"% Voix/Ins\",\"% Voix/Exp\",\"type\",\"matchPrenoms\",\"CodePostal\",\"NomOrganisme\",\"NomCommune\",\"Email\",\"Téléphone\",\"Url\",\"Adresse\",\"Latitude\",\"Longitude\",\"dateMiseAJour\"]"
   ]
  },
  {
   "cell_type": "code",
   "execution_count": null,
   "metadata": {},
   "outputs": [],
   "source": [
    "pdFull = df.merge(dfMairies,on=[\"codeInsee\"],how=\"left\")\n",
    "pdFull = pdFull[pdFull['CodePostal'].notna()]\n",
    "Clean = pdFull[pdFull.matchPrenoms >= 80][ColInterest]\n",
    "Clean = Clean.rename(columns={\"popsubcom\": \"Population\",\"libcsp\": \"ProfilMaire\",\"libsubcom\":\"NomCommune\"})\n",
    "Clean.to_excel(\"2020_maires_reelus_full.xls\")\n",
    "Clean"
   ]
  },
  {
   "cell_type": "code",
   "execution_count": null,
   "metadata": {},
   "outputs": [],
   "source": []
  }
 ],
 "metadata": {
  "kernelspec": {
   "display_name": "Python 3",
   "language": "python",
   "name": "python3"
  },
  "language_info": {
   "codemirror_mode": {
    "name": "ipython",
    "version": 3
   },
   "file_extension": ".py",
   "mimetype": "text/x-python",
   "name": "python",
   "nbconvert_exporter": "python",
   "pygments_lexer": "ipython3",
   "version": "3.6.9"
  }
 },
 "nbformat": 4,
 "nbformat_minor": 4
}
